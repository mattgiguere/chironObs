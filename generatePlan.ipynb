{
 "metadata": {
  "name": "",
  "signature": "sha256:993fb12daef1898484ae77ffa5aeb649562adf990133b6f7c9b238762cd1d81f"
 },
 "nbformat": 3,
 "nbformat_minor": 0,
 "worksheets": [
  {
   "cells": [
    {
     "cell_type": "heading",
     "level": 3,
     "metadata": {},
     "source": [
      "Generate bar-delimited CHIRON Plan"
     ]
    },
    {
     "cell_type": "markdown",
     "metadata": {},
     "source": [
      "This notebook will go over generating a bar-separated observing plan for CHIRON."
     ]
    },
    {
     "cell_type": "code",
     "collapsed": false,
     "input": [
      "%pylab inline\n",
      "%load_ext autoreload\n",
      "%autoreload 2"
     ],
     "language": "python",
     "metadata": {},
     "outputs": [
      {
       "output_type": "stream",
       "stream": "stdout",
       "text": [
        "Populating the interactive namespace from numpy and matplotlib\n"
       ]
      }
     ],
     "prompt_number": 1
    },
    {
     "cell_type": "code",
     "collapsed": false,
     "input": [
      "try:\n",
      "    import pandas as pd\n",
      "except:\n",
      "    print('You need pandas installed')\n",
      "    sys.exit(1)\n",
      "\n",
      "try:\n",
      "    import pymysql\n",
      "except:\n",
      "    print('You need pymysql installed')\n",
      "    sys.exit(1)\n",
      "\n",
      "try:\n",
      "    import numpy as np\n",
      "except ImportError:\n",
      "    print('You need numpy installed')\n",
      "    sys.exit(1)\n",
      "import subprocess"
     ],
     "language": "python",
     "metadata": {},
     "outputs": [],
     "prompt_number": 2
    },
    {
     "cell_type": "code",
     "collapsed": false,
     "input": [
      "header = ['object_id','plan_id','decker_id','cycle_id',\n",
      "          'object_id_attach','object_attach_seq','object_type',\n",
      "          'object_name','object_seq','object_ra','object_dec',\n",
      "          'object_epoch','object_vmag','object_num_exp',\n",
      "          'object_iodine_in','object_day_ok','object_priority',\n",
      "          'object_exp_time','object_snr','object_reduce',\n",
      "          'object_status','object_scheduled_date','object_comments',\n",
      "          'object_optimal_start']"
     ],
     "language": "python",
     "metadata": {},
     "outputs": [],
     "prompt_number": 7
    },
    {
     "cell_type": "code",
     "collapsed": false,
     "input": [
      "date = datetime.datetime(2014,8,1)"
     ],
     "language": "python",
     "metadata": {},
     "outputs": [],
     "prompt_number": 32
    },
    {
     "cell_type": "code",
     "collapsed": false,
     "input": [
      "obj_comment = 'Please observe on '+date.strftime('%Y-%m-%d')\n",
      "tauCeti_Iout = ['NULL',247,3,0,0,0,'Science','10700',\n",
      "                1,26.017,-15.9375,'J2000',3.5,1,'','No',\n",
      "                'High',350,0,'Yes','Unscheduled','None',\n",
      "                obj_comment,'None']\n",
      "tauCeti_I2B = ['NULL',247,3,0,-1,0,'Standard','10700',\n",
      "                1,26.017,-15.9375,'J2000',3.5,1,'','No',\n",
      "                'High',350,0,'Yes','Unscheduled','None',\n",
      "                obj_comment,'None']\n",
      "tauCeti_I2A = ['NULL',247,3,0,1,0,'Standard','10700',\n",
      "                1,26.017,-15.9375,'J2000',3.5,1,'','No',\n",
      "                'High',350,0,'Yes','Unscheduled','None',\n",
      "                obj_comment,'None']"
     ],
     "language": "python",
     "metadata": {},
     "outputs": [],
     "prompt_number": 35
    },
    {
     "cell_type": "heading",
     "level": 4,
     "metadata": {},
     "source": [
      "Manipulating dates in python"
     ]
    },
    {
     "cell_type": "markdown",
     "metadata": {},
     "source": [
      "These next few lines just show how to work with dates in python."
     ]
    },
    {
     "cell_type": "code",
     "collapsed": false,
     "input": [
      "date = datetime.datetime(2003,8,1)\n",
      "for i in range(5): \n",
      "    date += datetime.timedelta(days=1)\n",
      "    print(date) "
     ],
     "language": "python",
     "metadata": {},
     "outputs": [
      {
       "output_type": "stream",
       "stream": "stdout",
       "text": [
        "2003-08-02 00:00:00\n",
        "2003-08-03 00:00:00\n",
        "2003-08-04 00:00:00\n",
        "2003-08-05 00:00:00\n",
        "2003-08-06 00:00:00\n"
       ]
      }
     ],
     "prompt_number": 24
    },
    {
     "cell_type": "code",
     "collapsed": false,
     "input": [
      "date"
     ],
     "language": "python",
     "metadata": {},
     "outputs": [
      {
       "metadata": {},
       "output_type": "pyout",
       "prompt_number": 11,
       "text": [
        "datetime.datetime(2003, 8, 6, 12, 4, 5)"
       ]
      }
     ],
     "prompt_number": 11
    },
    {
     "cell_type": "code",
     "collapsed": false,
     "input": [
      "date.isoformat()"
     ],
     "language": "python",
     "metadata": {},
     "outputs": [
      {
       "metadata": {},
       "output_type": "pyout",
       "prompt_number": 17,
       "text": [
        "'2003-08-06T00:00:00'"
       ]
      }
     ],
     "prompt_number": 17
    },
    {
     "cell_type": "code",
     "collapsed": false,
     "input": [
      "date.strftime('%Y-%m-%d')"
     ],
     "language": "python",
     "metadata": {},
     "outputs": [
      {
       "metadata": {},
       "output_type": "pyout",
       "prompt_number": 34,
       "text": [
        "'2014-08-01'"
       ]
      }
     ],
     "prompt_number": 34
    },
    {
     "cell_type": "code",
     "collapsed": false,
     "input": [
      "datetime.datetime(2014,8,1) - datetime.datetime(2015,1,31)"
     ],
     "language": "python",
     "metadata": {},
     "outputs": [
      {
       "metadata": {},
       "output_type": "pyout",
       "prompt_number": 30,
       "text": [
        "datetime.timedelta(-183)"
       ]
      }
     ],
     "prompt_number": 30
    },
    {
     "cell_type": "heading",
     "level": 4,
     "metadata": {},
     "source": [
      "Writing to File"
     ]
    },
    {
     "cell_type": "markdown",
     "metadata": {},
     "source": [
      "This section contains the code to actually write the plan to file."
     ]
    },
    {
     "cell_type": "code",
     "collapsed": false,
     "input": [
      "object_seq = 1\n",
      "date = datetime.datetime(2014,8,1)\n",
      "obj_comment = 'Please observe on '+date.strftime('%Y-%m-%d')\n",
      "\n",
      "header = ['object_id','plan_id','decker_id','cycle_id',\n",
      "          'object_id_attach','object_attach_seq','object_type',\n",
      "          'object_name','object_seq','object_ra','object_dec',\n",
      "          'object_epoch','object_vmag','object_num_exp',\n",
      "          'object_iodine_in','object_day_ok','object_priority',\n",
      "          'object_exp_time','object_snr','object_reduce',\n",
      "          'object_status','object_scheduled_date','object_comments',\n",
      "          'object_optimal_start']\n",
      "\n",
      "tauCeti_Iout = ['NULL',247,4,0,0,0,'Science','10700',\n",
      "                object_seq,26.017,-15.9375,'J2000',3.5,1,'','No',\n",
      "                'High',555,0,'Yes','Unscheduled','None',\n",
      "                obj_comment,'None']\n",
      "tauCeti_I2B = ['NULL',247,3,0,0,-1,'Standard','10700',\n",
      "                object_seq,26.017,-15.9375,'J2000',3.5,4,'','No',\n",
      "                'High',383,0,'Yes','Unscheduled','None',\n",
      "                obj_comment,'None']\n",
      "tauCeti_I2A = ['NULL',247,3,0,0,1,'Standard','10700',\n",
      "                object_seq,26.017,-15.9375,'J2000',3.5,3,'','No',\n",
      "                'High',383,0,'Yes','Unscheduled','None',\n",
      "                obj_comment,'None']\n",
      "hr472 = ['NULL', 247, 3, 0, 0, 0, 'Science', 'HR 472', object_seq,\n",
      "         24.4285, -57.2368, 'J2000', 0.5, 3, 'Yes', 'No', 'High',\n",
      "         15, 200, 'Yes', 'Unscheduled', 'None', obj_comment, 'None']\n",
      "\n",
      "epsEri_Iout = ['NULL', 247, 4, 0, 0, 0, 'Science', '22049', object_seq,\n",
      "               53.2327, -9.45826, 'J2000', 3.73, 1, '', 'No', 'High',\n",
      "               740, 200, 'Yes', 'Unscheduled', 'None', obj_comment, 'None']\n",
      "epsEri_I2B = ['NULL', 247, 3, 0, 0, -1, 'Standard', '22049', object_seq,\n",
      "               53.2327, -9.45826, 'J2000', 3.73, 1, 'Yes', 'No', 'High',\n",
      "               386, 200, 'Yes', 'Unscheduled', 'None', obj_comment, 'None']\n",
      "epsEri_I2A = ['NULL', 247, 3, 0, 0, 1, 'Standard', '22049', object_seq,\n",
      "               53.2327, -9.45826, 'J2000', 3.73, 1, 'Yes', 'No', 'High',\n",
      "               386, 200, 'Yes', 'Unscheduled', 'None', obj_comment, 'None']\n",
      "hd20794 = ['NULL', 247, 3, 0, 0, 0, 'Science', '20794', object_seq,\n",
      "           49.9819, -43.0698, 'J2000', 4.3, 3, 'Yes', 'No', 'High',\n",
      "           664, 200, 'Yes', 'Unscheduled', 'None', obj_comment, 'None']"
     ],
     "language": "python",
     "metadata": {},
     "outputs": [],
     "prompt_number": 86
    },
    {
     "cell_type": "code",
     "collapsed": false,
     "input": [
      "object_seq = 1\n",
      "f = open('2014BObservingPlan.txt', 'w')\n",
      "f.write(','.join(header)+'\\n')\n",
      "date = datetime.datetime(2014,8,1)\n",
      "\n",
      "for i in range(183):\n",
      "    obj_comment = 'Please observe on '+date.strftime('%Y-%m-%d')\n",
      "    hr472[8] = object_seq\n",
      "    hr472[-2] = obj_comment\n",
      "    f.write(','.join(str(x) for x in hr472)+'\\n')\n",
      "\n",
      "    object_seq += 1\n",
      "    tauCeti_Iout[8] = object_seq\n",
      "    tauCeti_Iout[-2] = obj_comment\n",
      "    f.write(','.join(str(x) for x in tauCeti_Iout)+'\\n')\n",
      "    tauCeti_I2B[8] = object_seq\n",
      "    tauCeti_I2B[-2] = obj_comment\n",
      "    f.write(','.join(str(x) for x in tauCeti_I2B)+'\\n')\n",
      "    tauCeti_I2A[8] = object_seq\n",
      "    tauCeti_I2A[-2] = obj_comment\n",
      "    f.write(','.join(str(x) for x in tauCeti_I2A)+'\\n')\n",
      "\n",
      "    object_seq += 1\n",
      "    hr472[8] = object_seq\n",
      "    f.write(','.join(str(x) for x in hr472)+'\\n')\n",
      "\n",
      "    object_seq += 1\n",
      "    epsEri_Iout[8] = object_seq\n",
      "    epsEri_Iout[-2] = obj_comment\n",
      "    f.write(','.join(str(x) for x in epsEri_Iout)+'\\n')\n",
      "    epsEri_I2B[8] = object_seq\n",
      "    epsEri_I2B[-2] = obj_comment\n",
      "    f.write(','.join(str(x) for x in epsEri_I2B)+'\\n')\n",
      "    epsEri_I2A[8] = object_seq\n",
      "    epsEri_I2A[-2] = obj_comment\n",
      "    f.write(','.join(str(x) for x in epsEri_I2A)+'\\n')\n",
      "\n",
      "    object_seq += 1\n",
      "    hr472[8] = object_seq\n",
      "    f.write(','.join(str(x) for x in hr472)+'\\n')\n",
      "\n",
      "    object_seq += 1\n",
      "    hd20794[8] = object_seq\n",
      "    hd20794[-2] = obj_comment\n",
      "    f.write(','.join(str(x) for x in hd20794)+'\\n')\n",
      "    date += datetime.timedelta(days=1)\n",
      "f.close()"
     ],
     "language": "python",
     "metadata": {},
     "outputs": [],
     "prompt_number": 89
    },
    {
     "cell_type": "heading",
     "level": 3,
     "metadata": {},
     "source": [
      "Object Observed"
     ]
    },
    {
     "cell_type": "markdown",
     "metadata": {},
     "source": [
      "Here are the objects observed. Many of these were extracted from the CHIRON Database."
     ]
    },
    {
     "cell_type": "raw",
     "metadata": {},
     "source": [
      "###HD 20794\n",
      "object_id                           8146\n",
      "plan_id                              194\n",
      "decker_id                              3\n",
      "cycle_id                               0\n",
      "object_id_attach                       0\n",
      "object_attach_seq                      0\n",
      "object_type                      Science\n",
      "object_name                        20794\n",
      "object_seq                           119\n",
      "object_ra                        49.9819\n",
      "object_dec                      -43.0698\n",
      "object_epoch                       J2000\n",
      "object_vmag                          4.3\n",
      "object_num_exp                         3\n",
      "object_iodine_in                     Yes\n",
      "object_day_ok                         No\n",
      "object_priority                     High\n",
      "object_exp_time                     1500\n",
      "object_snr                             0\n",
      "object_reduce                        Yes\n",
      "object_status                Unscheduled\n",
      "object_scheduled_date               None\n",
      "object_comments          20794 and 22049\n",
      "object_optimal_start                None\n",
      "Name: 0, dtype: object\n",
      "\n",
      "### Eps Eri\n",
      "object_id                       8144\n",
      "plan_id                          194\n",
      "decker_id                          3\n",
      "cycle_id                           0\n",
      "object_id_attach                8140\n",
      "object_attach_seq                  1\n",
      "object_type                 Standard\n",
      "object_name                    22049\n",
      "object_seq                       118\n",
      "object_ra                    53.2327\n",
      "object_dec                  -9.45826\n",
      "object_epoch                   J2000\n",
      "object_vmag                     3.73\n",
      "object_num_exp                     1\n",
      "object_iodine_in                 Yes\n",
      "object_day_ok                     No\n",
      "object_priority                 High\n",
      "object_exp_time                 1500\n",
      "object_snr                         0\n",
      "object_reduce                    Yes\n",
      "object_status            Unscheduled\n",
      "object_scheduled_date           None\n",
      "object_comments                     \n",
      "object_optimal_start            None\n",
      "Name: 0, dtype: object\n",
      "\n",
      "###HR 472\n",
      "object_id                                               8147\n",
      "plan_id                                                  194\n",
      "decker_id                                                  3\n",
      "cycle_id                                                   0\n",
      "object_id_attach                                        8146\n",
      "object_attach_seq                                         -4\n",
      "object_type                                         Standard\n",
      "object_name                                           HR 472\n",
      "object_seq                                               120\n",
      "object_ra                                            24.4285\n",
      "object_dec                                          -57.2368\n",
      "object_epoch                                           J2000\n",
      "object_vmag                                              0.5\n",
      "object_num_exp                                             3\n",
      "object_iodine_in                                         Yes\n",
      "object_day_ok                                             No\n",
      "object_priority                                         High\n",
      "object_exp_time                                          480\n",
      "object_snr                                               200\n",
      "object_reduce                                            Yes\n",
      "object_status                                    Unscheduled\n",
      "object_scheduled_date                                   None\n",
      "object_comments          b star must be observed every night\n",
      "object_optimal_start                                    None"
     ]
    },
    {
     "cell_type": "code",
     "collapsed": false,
     "input": [],
     "language": "python",
     "metadata": {},
     "outputs": []
    }
   ],
   "metadata": {}
  }
 ]
}