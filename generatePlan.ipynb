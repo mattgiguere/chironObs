{
 "metadata": {
  "name": "",
  "signature": "sha256:2bd7ab3432dc9053e4cd170e75cc4eac1015408a87a0651eb7513afcbc1a98ca"
 },
 "nbformat": 3,
 "nbformat_minor": 0,
 "worksheets": [
  {
   "cells": [
    {
     "cell_type": "heading",
     "level": 3,
     "metadata": {},
     "source": [
      "Generate bar-delimited CHIRON Plan"
     ]
    },
    {
     "cell_type": "markdown",
     "metadata": {},
     "source": [
      "This notebook will go over generating a bar-separated observing plan for CHIRON."
     ]
    },
    {
     "cell_type": "code",
     "collapsed": false,
     "input": [
      "%pylab inline\n",
      "%load_ext autoreload\n",
      "%autoreload 2"
     ],
     "language": "python",
     "metadata": {},
     "outputs": [
      {
       "output_type": "stream",
       "stream": "stdout",
       "text": [
        "Populating the interactive namespace from numpy and matplotlib\n"
       ]
      }
     ],
     "prompt_number": 1
    },
    {
     "cell_type": "code",
     "collapsed": false,
     "input": [
      "try:\n",
      "    import pandas as pd\n",
      "except:\n",
      "    print('You need pandas installed')\n",
      "    sys.exit(1)\n",
      "\n",
      "try:\n",
      "    import pymysql\n",
      "except:\n",
      "    print('You need pymysql installed')\n",
      "    sys.exit(1)\n",
      "\n",
      "try:\n",
      "    import numpy as np\n",
      "except ImportError:\n",
      "    print('You need numpy installed')\n",
      "    sys.exit(1)\n",
      "import subprocess"
     ],
     "language": "python",
     "metadata": {},
     "outputs": [],
     "prompt_number": 2
    },
    {
     "cell_type": "code",
     "collapsed": false,
     "input": [
      "header = ['object_id','plan_id','decker_id','cycle_id',\n",
      "          'object_id_attach','object_attach_seq','object_type',\n",
      "          'object_name','object_seq','object_ra','object_dec',\n",
      "          'object_epoch','object_vmag','object_num_exp',\n",
      "          'object_iodine_in','object_day_ok','object_priority',\n",
      "          'object_exp_time','object_snr','object_reduce',\n",
      "          'object_status','object_scheduled_date','object_comments',\n",
      "          'object_optimal_start']"
     ],
     "language": "python",
     "metadata": {},
     "outputs": [],
     "prompt_number": 7
    },
    {
     "cell_type": "code",
     "collapsed": false,
     "input": [
      "date = datetime.datetime(2014,8,1)"
     ],
     "language": "python",
     "metadata": {},
     "outputs": [],
     "prompt_number": 32
    },
    {
     "cell_type": "code",
     "collapsed": false,
     "input": [
      "obj_comment = 'Please observe on '+date.strftime('%Y-%m-%d')\n",
      "tauCeti_Iout = ['NULL',247,3,0,0,0,'Science','10700',\n",
      "                1,26.017,-15.9375,'J2000',3.5,1,'','No',\n",
      "                'High',350,0,'Yes','Unscheduled','None',\n",
      "                obj_comment,'None']\n",
      "tauCeti_I2B = ['NULL',247,3,0,-1,0,'Standard','10700',\n",
      "                1,26.017,-15.9375,'J2000',3.5,1,'','No',\n",
      "                'High',350,0,'Yes','Unscheduled','None',\n",
      "                obj_comment,'None']\n",
      "tauCeti_I2A = ['NULL',247,3,0,1,0,'Standard','10700',\n",
      "                1,26.017,-15.9375,'J2000',3.5,1,'','No',\n",
      "                'High',350,0,'Yes','Unscheduled','None',\n",
      "                obj_comment,'None']"
     ],
     "language": "python",
     "metadata": {},
     "outputs": [],
     "prompt_number": 35
    },
    {
     "cell_type": "heading",
     "level": 4,
     "metadata": {},
     "source": [
      "Manipulating dates in python"
     ]
    },
    {
     "cell_type": "markdown",
     "metadata": {},
     "source": [
      "These next few lines just show how to work with dates in python."
     ]
    },
    {
     "cell_type": "code",
     "collapsed": false,
     "input": [
      "date = datetime.datetime(2003,8,1)\n",
      "for i in range(5): \n",
      "    date += datetime.timedelta(days=1)\n",
      "    print(date) "
     ],
     "language": "python",
     "metadata": {},
     "outputs": [
      {
       "output_type": "stream",
       "stream": "stdout",
       "text": [
        "2003-08-02 00:00:00\n",
        "2003-08-03 00:00:00\n",
        "2003-08-04 00:00:00\n",
        "2003-08-05 00:00:00\n",
        "2003-08-06 00:00:00\n"
       ]
      }
     ],
     "prompt_number": 24
    },
    {
     "cell_type": "code",
     "collapsed": false,
     "input": [
      "date"
     ],
     "language": "python",
     "metadata": {},
     "outputs": [
      {
       "metadata": {},
       "output_type": "pyout",
       "prompt_number": 11,
       "text": [
        "datetime.datetime(2003, 8, 6, 12, 4, 5)"
       ]
      }
     ],
     "prompt_number": 11
    },
    {
     "cell_type": "code",
     "collapsed": false,
     "input": [
      "date.isoformat()"
     ],
     "language": "python",
     "metadata": {},
     "outputs": [
      {
       "metadata": {},
       "output_type": "pyout",
       "prompt_number": 17,
       "text": [
        "'2003-08-06T00:00:00'"
       ]
      }
     ],
     "prompt_number": 17
    },
    {
     "cell_type": "code",
     "collapsed": false,
     "input": [
      "date.strftime('%Y-%m-%d')"
     ],
     "language": "python",
     "metadata": {},
     "outputs": [
      {
       "metadata": {},
       "output_type": "pyout",
       "prompt_number": 34,
       "text": [
        "'2014-08-01'"
       ]
      }
     ],
     "prompt_number": 34
    },
    {
     "cell_type": "code",
     "collapsed": false,
     "input": [
      "datetime.datetime(2014,8,1) - datetime.datetime(2015,1,31)"
     ],
     "language": "python",
     "metadata": {},
     "outputs": [
      {
       "metadata": {},
       "output_type": "pyout",
       "prompt_number": 30,
       "text": [
        "datetime.timedelta(-183)"
       ]
      }
     ],
     "prompt_number": 30
    },
    {
     "cell_type": "code",
     "collapsed": false,
     "input": [],
     "language": "python",
     "metadata": {},
     "outputs": []
    }
   ],
   "metadata": {}
  }
 ]
}